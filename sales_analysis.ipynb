{
 "cells": [
  {
   "cell_type": "code",
   "execution_count": 1,
   "id": "95d9c7f6",
   "metadata": {},
   "outputs": [],
   "source": [
    "import sqlite3\n",
    "import pandas as pd\n",
    "import matplotlib.pyplot as plt"
   ]
  },
  {
   "cell_type": "code",
   "execution_count": 2,
   "id": "89d2bfba",
   "metadata": {},
   "outputs": [],
   "source": [
    "# Create and populate SQLite database\n",
    "conn = sqlite3.connect('sales_data.db')\n",
    "cursor = conn.cursor()"
   ]
  },
  {
   "cell_type": "code",
   "execution_count": 3,
   "id": "1c0122a9",
   "metadata": {},
   "outputs": [
    {
     "data": {
      "text/plain": [
       "<sqlite3.Cursor at 0x1e81944be30>"
      ]
     },
     "execution_count": 3,
     "metadata": {},
     "output_type": "execute_result"
    }
   ],
   "source": [
    "# Create sales table\n",
    "cursor.execute('''\n",
    "       CREATE TABLE IF NOT EXISTS sales (\n",
    "          product_id TEXT NOT NULL,\n",
    "          quantity INTEGER NOT NULL,\n",
    "          amount REAL NOT NULL\n",
    "          )\n",
    "''')"
   ]
  },
  {
   "cell_type": "code",
   "execution_count": 4,
   "id": "c0ad2634",
   "metadata": {},
   "outputs": [],
   "source": [
    "# Insert sample data\n",
    "sample_data = [\n",
    "    ('Phone', 2, 50.00),\n",
    "    ('Laptop', 2, 1000.00),\n",
    "    ('Phone', 3, 50.00),\n",
    "    ('Tablet', 4, 250.00),\n",
    "    ('Tablet', 1, 300.00),\n",
    "    ('Laptop', 1, 500.00)\n",
    "]"
   ]
  },
  {
   "cell_type": "code",
   "execution_count": 5,
   "id": "e8e18d14",
   "metadata": {},
   "outputs": [],
   "source": [
    "cursor.executemany('INSERT OR REPLACE INTO sales (product_id, quantity, amount) VALUES (?, ?, ?)', sample_data)\n",
    "conn.commit()"
   ]
  },
  {
   "cell_type": "code",
   "execution_count": 6,
   "id": "f1698b01",
   "metadata": {},
   "outputs": [],
   "source": [
    "# Define and execute SQL query\n",
    "query = '''\n",
    "SELECT\n",
    "     product_id,\n",
    "     SUM(quantity) AS total_qty,\n",
    "     ROUND(SUM(quantity * amount), 2) AS revenue\n",
    "FROM sales\n",
    "GROUP BY product_id\n",
    "'''"
   ]
  },
  {
   "cell_type": "code",
   "execution_count": 7,
   "id": "5dcdbb9b",
   "metadata": {},
   "outputs": [],
   "source": [
    "# Load results into pandas DataFrame\n",
    "df = pd.read_sql_query(query, conn)"
   ]
  },
  {
   "cell_type": "code",
   "execution_count": 8,
   "id": "75bd7d5e",
   "metadata": {},
   "outputs": [],
   "source": [
    "# Close connection\n",
    "conn.close()"
   ]
  },
  {
   "cell_type": "code",
   "execution_count": 9,
   "id": "ffcd24b9",
   "metadata": {},
   "outputs": [
    {
     "name": "stdout",
     "output_type": "stream",
     "text": [
      "\n",
      "Sales Summary:\n",
      "  product_id  total_qty  revenue\n",
      "0     Laptop          3   2500.0\n",
      "1      Phone          5    250.0\n",
      "2     Tablet          5   1300.0\n"
     ]
    }
   ],
   "source": [
    "# Print Results\n",
    "print(\"\\nSales Summary:\")\n",
    "print(df)"
   ]
  },
  {
   "cell_type": "code",
   "execution_count": 10,
   "id": "45efedcb",
   "metadata": {},
   "outputs": [
    {
     "data": {
      "text/plain": [
       "<Figure size 576x360 with 0 Axes>"
      ]
     },
     "metadata": {},
     "output_type": "display_data"
    },
    {
     "data": {
      "image/png": "[encoded data removed]",
      "text/plain": [
       "<Figure size 432x288 with 1 Axes>"
      ]
     },
     "metadata": {
      "needs_background": "light"
     },
     "output_type": "display_data"
    }
   ],
   "source": [
    "# Create bar chart\n",
    "plt.figure(figsize=(8, 5))\n",
    "df.plot(kind='bar', x='product_id', y='revenue')\n",
    "plt.title('Total Revenue by Product')\n",
    "plt.xlabel('Product')\n",
    "plt.ylabel('Revenue ($)')\n",
    "plt.xticks(rotation=45)\n",
    "plt.tight_layout()\n",
    "\n",
    "# Save chart\n",
    "plt.savefig('sales_chart.png')\n",
    "\n",
    "# Display chart\n",
    "plt.show()\n"
   ]
  },
  {
   "cell_type": "code",
   "execution_count": null,
   "id": "691baf3e",
   "metadata": {},
   "outputs": [],
   "source": []
  }
 ],
 "metadata": {
  "kernelspec": {
   "display_name": "Python 3 (ipykernel)",
   "language": "python",
   "name": "python3"
  },
  "language_info": {
   "codemirror_mode": {
    "name": "ipython",
    "version": 3
   },
   "file_extension": ".py",
   "mimetype": "text/x-python",
   "name": "python",
   "nbconvert_exporter": "python",
   "pygments_lexer": "ipython3",
   "version": "3.9.7"
  }
 },
 "nbformat": 4,
 "nbformat_minor": 5
}
